{
 "cells": [
  {
   "cell_type": "markdown",
   "metadata": {},
   "source": [
    "# Skyt spurv med kanoner"
   ]
  },
  {
   "cell_type": "code",
   "execution_count": 3,
   "metadata": {},
   "outputs": [
    {
     "name": "stdout",
     "output_type": "stream",
     "text": [
      "Skriv inn kastevinkel i grader45\n",
      "Skriv inn startsfart i m/s6.23\n",
      "Ballen treffer bakken etter 0.9 sekunder\n",
      "Ballen lander på bakken 3.96 meter unna kanonen\n"
     ]
    }
   ],
   "source": [
    "from pylab import *\n",
    "\n",
    "rad=float(input(\"Skriv inn kastevinkel i grader\"))/180*pi\n",
    "\n",
    "v=float(input(\"Skriv inn startsfart i m/s\"))\n",
    "\n",
    "def y(t):\n",
    "    return v*sin(rad)*t-1/2*981/100*t**2\n",
    "\n",
    "def yder(t):\n",
    "    return v*sin(rad)-1/2*981/100*2*t\n",
    "\n",
    "def newtonsmetode(y, yder, a, tol = 1E-15):\n",
    "    c=1\n",
    "    i=0\n",
    "    while abs(y(c)) > tol:\n",
    "        c = a - y(a)/yder(a)\n",
    "        a=c\n",
    "        i+=1\n",
    "    print(\"Ballen treffer bakken etter\", round(c, 2), \"sekunder\")\n",
    "    return c\n",
    "\n",
    "T=newtonsmetode(y, yder, 9, tol = 1E-15)\n",
    "\n",
    "def x(t):\n",
    "    return v*cos(rad)*t\n",
    "\n",
    "print(\"Ballen lander på bakken\", round(x(T), 2), \"meter unna kanonen\")"
   ]
  },
  {
   "cell_type": "markdown",
   "metadata": {},
   "source": [
    "Dette programmet tar inn to ukjente, start fart og vinkelen kanoen skyter ut ballen. Vi teset start farten og fant ut at kanonen skyter ut prosjektillet med start fart 6.23 m/s. Deretter testet vi programmet for forskjellige vinkler.\n",
    "\n",
    "Etter at vi funnet de teoretiske verdiene testet vi resultatet med en kanoen og et målebånd.\n",
    "\n",
    "Tabell for resultater \n",
    "\n",
    "|Vinkel|  V_0         | Teoretisk t | Teoretisk s| målt s   |\n",
    "|------|--------------|-------------|------------|----------|\n",
    "|45    |  6.23 m/s    |   0.9       |  4 meter   | 3.8 meter|\n",
    "|30    |  6.23 m/s    |   0.64      |  3 meter   | 2.7 meter|\n",
    "|60    |  6.23 m/s    |   1.1       |  3 meter   | 2.8 meter|\n",
    "\n",
    "\n",
    "\n",
    "Når vi sammenlikninger de teoretiske og målte verdiene ser vi at vår noen feilkilder. Startfarten er urgelmessig, det er krevende å få en eksakt vinkel og det er vannskelig å se hvor kulen lander."
   ]
  },
  {
   "cell_type": "code",
   "execution_count": null,
   "metadata": {},
   "outputs": [],
   "source": []
  }
 ],
 "metadata": {
  "kernelspec": {
   "display_name": "Python 3",
   "language": "python",
   "name": "python3"
  },
  "language_info": {
   "codemirror_mode": {
    "name": "ipython",
    "version": 3
   },
   "file_extension": ".py",
   "mimetype": "text/x-python",
   "name": "python",
   "nbconvert_exporter": "python",
   "pygments_lexer": "ipython3",
   "version": "3.6.5"
  }
 },
 "nbformat": 4,
 "nbformat_minor": 2
}
